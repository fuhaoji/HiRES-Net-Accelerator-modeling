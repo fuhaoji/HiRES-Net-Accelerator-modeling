{
  "nbformat": 4,
  "nbformat_minor": 0,
  "metadata": {
    "colab": {
      "name": "HiRESnet_acceleratorModeling.ipynb",
      "version": "0.3.2",
      "provenance": [],
      "collapsed_sections": [],
      "toc_visible": true,
      "include_colab_link": true
    },
    "kernelspec": {
      "name": "python3",
      "display_name": "Python 3"
    },
    "accelerator": "GPU"
  },
  "cells": [
    {
      "cell_type": "markdown",
      "metadata": {
        "id": "view-in-github",
        "colab_type": "text"
      },
      "source": [
        "<a href=\"https://colab.research.google.com/github/fuhaoji/HiRES-Net-Accelerator-modeling/blob/master/HiRESnet_acceleratorModeling.ipynb\" target=\"_parent\"><img src=\"https://colab.research.google.com/assets/colab-badge.svg\" alt=\"Open In Colab\"/></a>"
      ]
    },
    {
      "cell_type": "markdown",
      "metadata": {
        "id": "od2RMxdaRwdK",
        "colab_type": "text"
      },
      "source": [
        "# HiRES Net: Surrogate Modeling of the HiRES beamline at LBNL using TensorFlow/Keras\n"
      ]
    },
    {
      "cell_type": "markdown",
      "metadata": {
        "id": "NZtTusDHSQZ0",
        "colab_type": "text"
      },
      "source": [
        "**Accelerators are extremely complex systems** which involve a large number of parameters, non-linear behavior and many interactive systems.\n",
        "\n",
        "Different scientific/beam physics applications call for highly\n",
        "automated, rapid switching between different operational\n",
        "modes.\n",
        "\n",
        "Conventional numerical simulation methods are\n",
        "computational expensive and too slow to be directly used\n",
        "during operation.\n",
        "\n",
        "**Neural Networks(NN)** can be used to perform **fast predictions** of various electron pulse properties as well as the 6-dimensional phase space using nondestructive measurements as inputs. \n",
        "\n",
        "<img src=\"https://drive.google.com/uc?export=view&id=1gQXb8ncaIFgdxj-ykyTrcmELTpA3Dc3_\">\n",
        "\n",
        "\n",
        "In this example, **TensorFlow/Keras** is used to build a **surrogate NN Model of the HiRES beamline**. A dataset of 2916 simulations is used for training and testing the model. From the machine learning point of view, this is formalized as a ***supervised learning problem***. Beamline parameters, such as RF gun phase and amplitude, buncher phase and amplitude as well as Solenoid current are inputs of the NN and the longitudinal phase space image is the output. The output is a continuous function of the input features so that it's a ***regression problem*** and ***Mean Square Error (MSE) loss function*** was choosen.\n"
      ]
    },
    {
      "cell_type": "markdown",
      "metadata": {
        "id": "YA0huBu2yAXQ",
        "colab_type": "text"
      },
      "source": [
        "##Check GPU\n",
        "Although the ultimate performance of the NN model will be similar, using GPUs can greatly accelerate the training process. Google Colab provides free access to one GPU for experiments. For local systems, training with one or more GPUs are recommended.\n",
        "\n",
        "On the other hand, a CPU is well enough for excuting predictions with the trained model."
      ]
    },
    {
      "cell_type": "code",
      "metadata": {
        "id": "ugCnWRclDXIN",
        "colab_type": "code",
        "outputId": "e00cefc8-1ed7-49d5-c6c8-dc5e41dd65d6",
        "colab": {
          "base_uri": "https://localhost:8080/",
          "height": 306
        }
      },
      "source": [
        "#check GPU\n",
        "!nvidia-smi"
      ],
      "execution_count": 0,
      "outputs": [
        {
          "output_type": "stream",
          "text": [
            "Tue Sep 10 00:32:40 2019       \n",
            "+-----------------------------------------------------------------------------+\n",
            "| NVIDIA-SMI 430.40       Driver Version: 418.67       CUDA Version: 10.1     |\n",
            "|-------------------------------+----------------------+----------------------+\n",
            "| GPU  Name        Persistence-M| Bus-Id        Disp.A | Volatile Uncorr. ECC |\n",
            "| Fan  Temp  Perf  Pwr:Usage/Cap|         Memory-Usage | GPU-Util  Compute M. |\n",
            "|===============================+======================+======================|\n",
            "|   0  Tesla K80           Off  | 00000000:00:04.0 Off |                    0 |\n",
            "| N/A   32C    P8    26W / 149W |      0MiB / 11441MiB |      0%      Default |\n",
            "+-------------------------------+----------------------+----------------------+\n",
            "                                                                               \n",
            "+-----------------------------------------------------------------------------+\n",
            "| Processes:                                                       GPU Memory |\n",
            "|  GPU       PID   Type   Process name                             Usage      |\n",
            "|=============================================================================|\n",
            "|  No running processes found                                                 |\n",
            "+-----------------------------------------------------------------------------+\n"
          ],
          "name": "stdout"
        }
      ]
    },
    {
      "cell_type": "markdown",
      "metadata": {
        "id": "HJa5xqBZzDPm",
        "colab_type": "text"
      },
      "source": [
        "##Mount google drive \n",
        "\n",
        "Google drive can be used to train machine learning models on bigger dataset in the Google Colab environment. For local systems one can skip this step."
      ]
    },
    {
      "cell_type": "code",
      "metadata": {
        "id": "fntx14pACeXH",
        "colab_type": "code",
        "colab": {}
      },
      "source": [
        "# mount google drive\n",
        "from google.colab import drive\n",
        "drive.mount('/content/gdrive')"
      ],
      "execution_count": 0,
      "outputs": []
    },
    {
      "cell_type": "markdown",
      "metadata": {
        "id": "pLG4NOQa-ajg",
        "colab_type": "text"
      },
      "source": [
        "##Go to the working folder\n",
        "Go to the working folder.\n",
        "\n",
        "Data files should be put in a subfolder named as \".../datasets/\""
      ]
    },
    {
      "cell_type": "code",
      "metadata": {
        "id": "-mKM9kI8Ci2a",
        "colab_type": "code",
        "outputId": "96a31612-b0b6-4798-95e4-cfac0e84e46d",
        "colab": {
          "base_uri": "https://localhost:8080/",
          "height": 34
        }
      },
      "source": [
        "cd /content/gdrive/My Drive/Colab Notebooks/HiRES_model/"
      ],
      "execution_count": 0,
      "outputs": [
        {
          "output_type": "stream",
          "text": [
            "/content/gdrive/My Drive/Colab Notebooks/HiRES_model\n"
          ],
          "name": "stdout"
        }
      ]
    },
    {
      "cell_type": "markdown",
      "metadata": {
        "id": "U4fAUEqpz9sC",
        "colab_type": "text"
      },
      "source": [
        "##Install tensoflow 2.0 and import modules"
      ]
    },
    {
      "cell_type": "code",
      "metadata": {
        "id": "xDDSjtPkCtNx",
        "colab_type": "code",
        "colab": {}
      },
      "source": [
        "##Install tensorflow 2.0\n",
        "!pip install tensorflow==2.0.0-beta1\n",
        "\n",
        "import math\n",
        "import numpy as np\n",
        "import h5py\n",
        "import matplotlib.pyplot as plt\n",
        "import tensorflow as tf\n",
        "from tensorflow import keras\n",
        "\n",
        "# Load the TensorBoard notebook extension\n",
        "%load_ext tensorboard"
      ],
      "execution_count": 0,
      "outputs": []
    },
    {
      "cell_type": "code",
      "metadata": {
        "id": "RW5QdSvdC2as",
        "colab_type": "code",
        "outputId": "92cc2b3f-dfe3-4660-f1df-eab4361a7b2c",
        "colab": {
          "base_uri": "https://localhost:8080/",
          "height": 170
        }
      },
      "source": [
        "#check tensorflow version\n",
        "print(\"tensorflow version:\")\n",
        "print(tf.__version__)\n",
        "print(\"\\n\")\n",
        "\n",
        "#check keras version\n",
        "print(\"keras version:\")\n",
        "print(keras.__version__)\n",
        "print(\"\\n\")\n",
        "\n",
        "# check GPU\n",
        "from tensorflow.python.client import device_lib\n",
        "device_lib.list_local_devices()\n",
        "print (tf.test.gpu_device_name()) "
      ],
      "execution_count": 0,
      "outputs": [
        {
          "output_type": "stream",
          "text": [
            "tensorflow version:\n",
            "2.0.0-beta1\n",
            "\n",
            "\n",
            "keras version:\n",
            "2.2.4-tf\n",
            "\n",
            "\n",
            "\n"
          ],
          "name": "stdout"
        }
      ]
    },
    {
      "cell_type": "markdown",
      "metadata": {
        "id": "LPNCMCk4EZMr",
        "colab_type": "text"
      },
      "source": [
        "##Load Dataset\n",
        "\n",
        "Datasets are saved in h5 files and are loaded as numpy arrays. \n",
        "\n",
        "The array \"x_orig\" contains the input features (2916 one-dimensional vectors respresenting the beamline parameters) and \"y_orig\" contains the output images (2916 two-dimensional images of the longitudinal phase space)\n"
      ]
    },
    {
      "cell_type": "code",
      "metadata": {
        "id": "nYI99qs5C9P7",
        "colab_type": "code",
        "outputId": "575061f4-3c4c-47f9-a0f6-75787b625207",
        "colab": {
          "base_uri": "https://localhost:8080/",
          "height": 51
        }
      },
      "source": [
        "##define the data loading function\n",
        "def load_dataset():\n",
        "    \n",
        "    ############Load the 1st dataset###################################\n",
        "    dataset = h5py.File('datasets/HiRES_ML_set1.h5', \"r\")\n",
        "    dataset_x_orig = np.array(dataset[\"data_x\"][:]) # your data set features\n",
        "    dataset_y_orig = np.array(dataset[\"data_y\"][:]) # your data set labels\n",
        "    \n",
        "    \n",
        "    ############Append the 2nd dataset to the 1st dataset##################\n",
        "    dataset = h5py.File('datasets/HiRES_ML_set2.h5', \"r\")\n",
        "    \n",
        "    dataset_x_orig_append = np.array(dataset[\"data_x_scan3\"][:]) # your data set features\n",
        "    dataset_y_orig_append = np.array(dataset[\"data_y_scan3\"][:]) # your data set labels\n",
        "        \n",
        "    dataset_x_orig = np.concatenate((dataset_x_orig, dataset_x_orig_append), axis=0)\n",
        "    dataset_y_orig = np.concatenate((dataset_y_orig, dataset_y_orig_append), axis=0)\n",
        "    \n",
        "    dataset_x_orig_append = np.array(dataset[\"data_x_scan4\"][:]) # your data set features\n",
        "    dataset_y_orig_append = np.array(dataset[\"data_y_scan4\"][:]) # your data set labels\n",
        "        \n",
        "    dataset_x_orig = np.concatenate((dataset_x_orig, dataset_x_orig_append), axis=0)\n",
        "    dataset_y_orig = np.concatenate((dataset_y_orig, dataset_y_orig_append), axis=0)\n",
        "    \n",
        "    dataset_x_orig_append = np.array(dataset[\"data_x_scan5\"][:]) # your data set features\n",
        "    dataset_y_orig_append = np.array(dataset[\"data_y_scan5\"][:]) # your data set labels\n",
        "        \n",
        "    dataset_x_orig = np.concatenate((dataset_x_orig, dataset_x_orig_append), axis=0)\n",
        "    dataset_y_orig = np.concatenate((dataset_y_orig, dataset_y_orig_append), axis=0)\n",
        "    \n",
        "    dataset_x_orig_append = np.array(dataset[\"data_x_scan6\"][:]) # your data set features\n",
        "    dataset_y_orig_append = np.array(dataset[\"data_y_scan6\"][:]) # your data set labels\n",
        "        \n",
        "    dataset_x_orig = np.concatenate((dataset_x_orig, dataset_x_orig_append), axis=0)\n",
        "    dataset_y_orig = np.concatenate((dataset_y_orig, dataset_y_orig_append), axis=0)\n",
        "    \n",
        "    ############Append the 3rd dataset to the 1st dataset##################\n",
        "    dataset = h5py.File('datasets/HiRES_ML_set3.h5', \"r\")\n",
        "    \n",
        "    dataset_x_orig_append = np.array(dataset[\"data_x_scan7\"][:]) # your data set features\n",
        "    dataset_y_orig_append = np.array(dataset[\"data_y_scan7\"][:]) # your data set labels\n",
        "        \n",
        "    dataset_x_orig = np.concatenate((dataset_x_orig, dataset_x_orig_append), axis=0)\n",
        "    dataset_y_orig = np.concatenate((dataset_y_orig, dataset_y_orig_append), axis=0)\n",
        "    \n",
        "    dataset_x_orig_append = np.array(dataset[\"data_x_scan8\"][:]) # your data set features\n",
        "    dataset_y_orig_append = np.array(dataset[\"data_y_scan8\"][:]) # your data set labels\n",
        "        \n",
        "    dataset_x_orig = np.concatenate((dataset_x_orig, dataset_x_orig_append), axis=0)\n",
        "    dataset_y_orig = np.concatenate((dataset_y_orig, dataset_y_orig_append), axis=0)\n",
        "    \n",
        "    dataset_x_orig_append = np.array(dataset[\"data_x_scan9\"][:]) # your data set features\n",
        "    dataset_y_orig_append = np.array(dataset[\"data_y_scan9\"][:]) # your data set labels\n",
        "        \n",
        "    dataset_x_orig = np.concatenate((dataset_x_orig, dataset_x_orig_append), axis=0)\n",
        "    dataset_y_orig = np.concatenate((dataset_y_orig, dataset_y_orig_append), axis=0)\n",
        "    \n",
        "    \n",
        "    #######################################\n",
        "    \n",
        "    \n",
        "    #classes = np.array(test_dataset[\"list_classes\"][:]) # the list of classes\n",
        "    \n",
        "    #train_set_y_orig = train_set_y_orig.reshape((1, train_set_y_orig.shape[0]))\n",
        "    #test_set_y_orig = test_set_y_orig.reshape((1, test_set_y_orig.shape[0]))\n",
        "    \n",
        "    return dataset_x_orig,dataset_y_orig\n",
        "  \n",
        "  \n",
        "  \n",
        "#load dataset\n",
        "x_orig, y_orig = load_dataset()\n",
        "print(x_orig.shape)\n",
        "print(y_orig.shape)"
      ],
      "execution_count": 0,
      "outputs": [
        {
          "output_type": "stream",
          "text": [
            "(2916, 3)\n",
            "(2916, 301, 301)\n"
          ],
          "name": "stdout"
        }
      ]
    },
    {
      "cell_type": "markdown",
      "metadata": {
        "id": "BUIrKbDbFue1",
        "colab_type": "text"
      },
      "source": [
        "##Plot an example image in the dataset"
      ]
    },
    {
      "cell_type": "code",
      "metadata": {
        "id": "9n0aFzCVF6ZB",
        "colab_type": "code",
        "outputId": "7f2d56b2-c0e9-496f-eea2-b3812adb9d32",
        "colab": {
          "base_uri": "https://localhost:8080/",
          "height": 286
        }
      },
      "source": [
        "# Example of an image\n",
        "index = 1600\n",
        "plt.imshow(y_orig[index])\n",
        "\n",
        "# print the corresponding input vector\n",
        "print (\"x = \" + str(np.squeeze(x_orig[index,:])))"
      ],
      "execution_count": 0,
      "outputs": [
        {
          "output_type": "stream",
          "text": [
            "x = [  4.75 -90.    -1.2 ]\n"
          ],
          "name": "stdout"
        },
        {
          "output_type": "display_data",
          "data": {
            "image/png": "[encoded data removed]",
            "text/plain": [
              "<Figure size 432x288 with 1 Axes>"
            ]
          },
          "metadata": {
            "tags": []
          }
        }
      ]
    },
    {
      "cell_type": "markdown",
      "metadata": {
        "id": "GxPb0q_DGVE6",
        "colab_type": "text"
      },
      "source": [
        "##Crop the output images \n",
        "\n",
        "The number of neurons in the output layer of the Neural Network is (n x m), where n and m are the output image size in the horizontal and vertical direction. Cropping the output images can reduce the size of neural networks and accelerate training. However, information contained in the phase space area further from the centroid could be lost. \n",
        "\n",
        "In this example, output images are cropped into half size so that the size of NN is reduced by a factor of 4."
      ]
    },
    {
      "cell_type": "code",
      "metadata": {
        "id": "2i-IoDWUGXJE",
        "colab_type": "code",
        "outputId": "6db2687b-2f84-492f-ffa9-1fa51bec7677",
        "colab": {
          "base_uri": "https://localhost:8080/",
          "height": 303
        }
      },
      "source": [
        "def crop_images(imagestack,xwidth,ywidth):\n",
        "    ywidth_orig = imagestack.shape[1]\n",
        "    xwidth_orig = imagestack.shape[2]\n",
        "    ystart = math.floor((ywidth_orig-ywidth)/2)\n",
        "    xstart = math.floor((xwidth_orig-xwidth)/2)\n",
        "    \n",
        "    #import pdb; pdb.set_trace()\n",
        "\n",
        "    imagestack_crop = imagestack[:,ystart:(ystart+ywidth),xstart:(xstart+xwidth)]\n",
        "    \n",
        "    \n",
        "    return imagestack_crop\n",
        "  \n",
        "  \n",
        "##crop the images to (151,151) size\n",
        "y_crop = crop_images(y_orig,xwidth = 151,ywidth = 151)\n",
        "print(y_crop.shape)\n",
        "\n",
        "# Example of an image\n",
        "index = 1300\n",
        "plt.imshow(y_crop[index])\n",
        "print (\"x = \" + str(np.squeeze(x_orig[index,:])))\n"
      ],
      "execution_count": 0,
      "outputs": [
        {
          "output_type": "stream",
          "text": [
            "(2916, 151, 151)\n",
            "x = [  4.45 -85.    -1.4 ]\n"
          ],
          "name": "stdout"
        },
        {
          "output_type": "display_data",
          "data": {
            "image/png": "[encoded data removed]",
            "text/plain": [
              "<Figure size 432x288 with 1 Axes>"
            ]
          },
          "metadata": {
            "tags": []
          }
        }
      ]
    },
    {
      "cell_type": "markdown",
      "metadata": {
        "id": "_CzZ-NQyOOYL",
        "colab_type": "text"
      },
      "source": [
        "##Shuffle the dataset\n",
        "The simulation dataset is sorted since it was generated by scanning the beamline parameters. \n",
        "By shuffling the data one can make sure that the training/validation/test sets are representive of the overall parameter space. Also by shuffling the data one can reduce variance/overfitting when training the model using mini-batch gradient descent.\n"
      ]
    },
    {
      "cell_type": "code",
      "metadata": {
        "id": "AxGC03wyI05T",
        "colab_type": "code",
        "colab": {}
      },
      "source": [
        "def shuffle_data(xdata,ydata, seed = 1):\n",
        "    #shuffle the data set\n",
        "    #arguments: xdata, ydata\n",
        "    #returns: shuffled_X, shuffled_Y\n",
        "    m = xdata.shape[0]   #number of examples in data set\n",
        "    np.random.seed(seed)\n",
        "    permutation = list(np.random.permutation(m))\n",
        "    \n",
        "    #import pdb; pdb.set_trace()  #debug\n",
        "    \n",
        "    shuffled_X = xdata[permutation,:]\n",
        "    shuffled_Y = ydata[permutation,:]\n",
        "    \n",
        "    return shuffled_X, shuffled_Y\n",
        "  \n",
        "############shuffle the data set################\n",
        "x_shuffle, y_shuffle = shuffle_data(x_orig, y_crop, seed =1)"
      ],
      "execution_count": 0,
      "outputs": []
    },
    {
      "cell_type": "markdown",
      "metadata": {
        "id": "9-qSIobwVcaa",
        "colab_type": "text"
      },
      "source": [
        "##Feature Scaling\n",
        "Scale the features so that they have the same range in the parameter space. This removes asymmetry and greately accelerates convergence during training using gradient descent."
      ]
    },
    {
      "cell_type": "code",
      "metadata": {
        "id": "1j6RNIBwLejF",
        "colab_type": "code",
        "outputId": "37511635-eaf7-40c8-c202-d72794f57498",
        "colab": {
          "base_uri": "https://localhost:8080/",
          "height": 85
        }
      },
      "source": [
        "## normalize input x\n",
        "def normalize_input(xdata):\n",
        "    #dimension = xdata.shape[1]\n",
        "    #for i in range(dimension):\n",
        "    avg = np.mean(xdata,axis = 0)\n",
        "    std = np.std(xdata,axis = 0)\n",
        "    print('the average values of the inputs:')\n",
        "    print(avg)\n",
        "    print('the standard deviation of the inputs:')\n",
        "    print(std)\n",
        "    xdata_norm = (xdata-avg)/std\n",
        "    \n",
        "    return xdata_norm,avg,std\n",
        "  \n",
        "x_shuffle_norm, avgx, stdx = normalize_input(x_shuffle)    ##normalize the input\n",
        "y_shuffle_norm = y_shuffle/10   ##normalize the output"
      ],
      "execution_count": 0,
      "outputs": [
        {
          "output_type": "stream",
          "text": [
            "the average values of the inputs:\n",
            "[   4.0291615 -100.          -1.5999943]\n",
            "the standard deviation of the inputs:\n",
            "[ 0.71486086 12.909945    0.25819746]\n"
          ],
          "name": "stdout"
        }
      ]
    },
    {
      "cell_type": "markdown",
      "metadata": {
        "id": "ffPQcvVOXNqY",
        "colab_type": "text"
      },
      "source": [
        "## Flatten the output images into 1D vectors\n",
        "\n",
        "The output images are flattened into 1D vectors to match the shape of the  output layer of a fully-connected NN."
      ]
    },
    {
      "cell_type": "code",
      "metadata": {
        "id": "mFzOphBILfXc",
        "colab_type": "code",
        "colab": {}
      },
      "source": [
        "# Flatten the output\n",
        "y_shuffle_flatten = y_shuffle_norm.reshape(y_shuffle_norm.shape[0],-1)"
      ],
      "execution_count": 0,
      "outputs": []
    },
    {
      "cell_type": "markdown",
      "metadata": {
        "id": "tYkHfVKVaDh_",
        "colab_type": "text"
      },
      "source": [
        "##Split the dataset \n",
        "The dataset is splitted into training, validation and test sets"
      ]
    },
    {
      "cell_type": "code",
      "metadata": {
        "id": "xtPmca4yBb9e",
        "colab_type": "code",
        "outputId": "6bd2e2ff-22a7-43d8-809b-46f2a5a19483",
        "colab": {
          "base_uri": "https://localhost:8080/",
          "height": 388
        }
      },
      "source": [
        "## split the data into training set and test set\n",
        "def split_dataset(xdata,ydata, m_training = 2100, m_validation = 400):\n",
        "    m = xdata.shape[0]\n",
        "    x_train = xdata[0:m_training,:]\n",
        "    y_train = ydata[0:m_training,:]\n",
        "\n",
        "    x_validat = xdata[m_training:(m_training+m_validation),:]\n",
        "    y_validat = ydata[m_training:(m_training+m_validation),:]\n",
        "    \n",
        "    x_test = xdata[(m_training+m_validation):m,:]\n",
        "    y_test = ydata[(m_training+m_validation):m,:]\n",
        "    \n",
        "    return x_train,y_train,x_validat,y_validat,x_test,y_test\n",
        "  \n",
        "## split dataset into training set and test set\n",
        "x_train,y_train,x_validat,y_validat,x_test,y_test = split_dataset(x_shuffle_norm,y_shuffle_flatten, m_training = 2100, m_validation = 400)\n",
        "print(x_train.shape)\n",
        "print(y_train.shape)\n",
        "\n",
        "print(x_validat.shape)\n",
        "print(y_validat.shape)\n",
        "\n",
        "print(x_test.shape)\n",
        "print(y_test.shape)\n",
        "\n",
        "\n",
        "# Example of an image\n",
        "index = 1120\n",
        "plt.imshow(y_train[index].reshape(151,151))  #y need to be reshaped for display\n",
        "print (\"x = \" + str(np.squeeze(x_train[index,:])))"
      ],
      "execution_count": 0,
      "outputs": [
        {
          "output_type": "stream",
          "text": [
            "(2100, 3)\n",
            "(2100, 22801)\n",
            "(400, 3)\n",
            "(400, 22801)\n",
            "(416, 3)\n",
            "(416, 22801)\n",
            "x = [0.16903798 0.         0.774579  ]\n"
          ],
          "name": "stdout"
        },
        {
          "output_type": "display_data",
          "data": {
            "image/png": "[encoded data removed]",
            "text/plain": [
              "<Figure size 432x288 with 1 Axes>"
            ]
          },
          "metadata": {
            "tags": []
          }
        }
      ]
    },
    {
      "cell_type": "markdown",
      "metadata": {
        "colab_type": "text",
        "id": "_sPyRwPhqsaT"
      },
      "source": [
        "##Building the NN model for predicting longitudinal phase space\n",
        "A fully connected neural network is built for predicting the longitudinal phase space using the following achitecture:\n",
        "\n",
        "1. **Input Layer**: number of neurons is equal to the input vector dimension\n",
        "2. **Hidden Layer #1**: 50 neurons, with ReLU activation\n",
        "3. **Hidden Layer #2**: 100 neurons, with ReLU activation\n",
        "4. **Hidden Layer #3**: 200 neurons, with ReLU activation\n",
        "5. **Output Layer**: number of the neurons is equal to the output vector dimension, with batchnormalization and ReLU activation\n",
        "\n",
        "Note that, the NN achitecture can be further optimized by changing number of neurons per layer, number of layers, activation functions as well as adding BatchNorm/drop out operations. Further hyperparameter tuning can be used to improve the perfromance."
      ]
    },
    {
      "cell_type": "code",
      "metadata": {
        "id": "GVgEGaZ_L2q_",
        "colab_type": "code",
        "colab": {}
      },
      "source": [
        "#############define the Neural Network using keras###################\n",
        "outshape = y_train.shape[1]\n",
        "inputshape = x_train.shape[1]\n",
        "\n",
        "model = keras.Sequential([\n",
        "    keras.layers.InputLayer((inputshape,)),\n",
        "    keras.layers.Dense(50),\n",
        "    keras.layers.Activation('relu'),\n",
        "    \n",
        "    keras.layers.Dense(100),\n",
        "    keras.layers.Activation('relu'),\n",
        "    \n",
        "    keras.layers.Dense(200),\n",
        "    keras.layers.Activation('relu'),\n",
        "    \n",
        "    keras.layers.Dense(outshape),\n",
        "    keras.layers.BatchNormalization(epsilon=1e-06, axis=-1,momentum=0.9,beta_initializer='zero', gamma_initializer='one'),\n",
        "    keras.layers.Activation('relu')\n",
        "])\n"
      ],
      "execution_count": 0,
      "outputs": []
    },
    {
      "cell_type": "markdown",
      "metadata": {
        "id": "e6AtShr5unfN",
        "colab_type": "text"
      },
      "source": [
        "##Define customized metric function"
      ]
    },
    {
      "cell_type": "code",
      "metadata": {
        "id": "dI3fkFdpNijG",
        "colab_type": "code",
        "outputId": "f6352e20-ef19-44d8-e807-bad2b636ba21",
        "colab": {
          "base_uri": "https://localhost:8080/",
          "height": 34
        }
      },
      "source": [
        "##define customized metric functions\n",
        "import keras.backend as K\n",
        "\n",
        "# this function is a metric for tf tensors during training\n",
        "def metric_score(y_true, y_pred):\n",
        "    y_true_std = K.std(y_true,axis = -1)\n",
        "    y_true_mean = K.mean(y_true, axis = -1)\n",
        "    #score = 1-K.mean(K.square(y_pred - y_true), axis=-1)/K.mean(K.square(y_true-y_true_mean), axis = -1)\n",
        "    score = 1-K.mean(K.square(y_pred - y_true), axis=-1)/y_true_std\n",
        "    \n",
        "    return score\n",
        "\n",
        "# this function is a metric for numpy arrays\n",
        "def output_score(y_true, y_pred):\n",
        "    y_true_std = np.std(y_true,axis = -1)\n",
        "    y_true_mean = np.mean(y_true, axis = -1)\n",
        "    #score = 1-K.mean(K.square(y_pred - y_true), axis=-1)/K.mean(K.square(y_true-y_true_mean), axis = -1)\n",
        "    score = 1-np.mean(np.square(y_pred - y_true), axis=-1)/y_true_std\n",
        "    \n",
        "    return score\n",
        "  "
      ],
      "execution_count": 0,
      "outputs": [
        {
          "output_type": "stream",
          "text": [
            "Using TensorFlow backend.\n"
          ],
          "name": "stderr"
        }
      ]
    },
    {
      "cell_type": "markdown",
      "metadata": {
        "id": "1glYB6O5utrj",
        "colab_type": "text"
      },
      "source": [
        "##Compile the model\n",
        "For convenience, Adam optimizer is choosen, Stochastic Gradient Descent (SGD) in general gives a better ultimate result but requires more hyperparameter tuning.\n",
        "\n",
        "The output is a continuous function of the input features so that it's a regression problem and Mean Square Error (MSE) loss function was choosen."
      ]
    },
    {
      "cell_type": "code",
      "metadata": {
        "id": "jRqd3llXvPK3",
        "colab_type": "code",
        "colab": {}
      },
      "source": [
        "##compile model\n",
        "model.compile(optimizer='adam', \n",
        "              loss='mean_squared_error',\n",
        "              metrics=[metric_score])"
      ],
      "execution_count": 0,
      "outputs": []
    },
    {
      "cell_type": "markdown",
      "metadata": {
        "id": "ayvtu0Nyu96Z",
        "colab_type": "text"
      },
      "source": [
        "##Update Learning curve during training"
      ]
    },
    {
      "cell_type": "code",
      "metadata": {
        "id": "Bph7a0HV8Vd3",
        "colab_type": "code",
        "colab": {}
      },
      "source": [
        "#############update loss during training#############\n",
        "\n",
        "from IPython.display import clear_output\n",
        "\n",
        "# updatable plot\n",
        "# a minimal example (sort of)\n",
        "\n",
        "class PlotLosses(keras.callbacks.Callback):\n",
        "    def on_train_begin(self, logs={}):\n",
        "        self.i = 0\n",
        "        self.x = []\n",
        "        self.losses = []\n",
        "        self.val_losses = []\n",
        "        \n",
        "        self.fig = plt.figure()\n",
        "        \n",
        "        self.logs = []\n",
        "\n",
        "    def on_epoch_end(self, epoch, logs={}):\n",
        "        \n",
        "        self.logs.append(logs)\n",
        "        self.x.append(self.i)\n",
        "        self.losses.append(logs.get('loss'))\n",
        "        self.val_losses.append(logs.get('val_loss'))\n",
        "        self.i += 1\n",
        "        \n",
        "        clear_output(wait=True)\n",
        "        plt.plot(self.x, self.losses, label=\"loss\")\n",
        "        plt.plot(self.x, self.val_losses, label=\"val_loss\")\n",
        "        plt.legend()\n",
        "        plt.show();\n",
        "        \n",
        "plot_losses = PlotLosses()"
      ],
      "execution_count": 0,
      "outputs": []
    },
    {
      "cell_type": "markdown",
      "metadata": {
        "id": "dtkvS3IEvFUp",
        "colab_type": "text"
      },
      "source": [
        "##TensorBoard log during training"
      ]
    },
    {
      "cell_type": "code",
      "metadata": {
        "colab_type": "code",
        "id": "sYKbjke9CjuB",
        "outputId": "91a91d12-b40c-4117-ebd3-5207e83e18a0",
        "colab": {
          "base_uri": "https://localhost:8080/",
          "height": 54
        }
      },
      "source": [
        "#############TensorBoard log####################\n",
        "from time import time\n",
        "tensorboard_callback = keras.callbacks.TensorBoard(log_dir=\"logs_test/{}\".format(time()), histogram_freq=10,write_grads=True, write_images=True)"
      ],
      "execution_count": 0,
      "outputs": [
        {
          "output_type": "stream",
          "text": [
            "WARNING:tensorflow:`write_grads` will be ignored in TensorFlow 2.0 for the `TensorBoard` Callback.\n"
          ],
          "name": "stdout"
        }
      ]
    },
    {
      "cell_type": "markdown",
      "metadata": {
        "id": "B3-QfjJFvNrw",
        "colab_type": "text"
      },
      "source": [
        "##Train the Neural Network\n",
        "Ready to train the network, run!"
      ]
    },
    {
      "cell_type": "code",
      "metadata": {
        "id": "zh24jbeCTJ9a",
        "colab_type": "code",
        "outputId": "ccdd57e1-3c41-49cb-9851-807c74bef432",
        "colab": {
          "base_uri": "https://localhost:8080/",
          "height": 306
        }
      },
      "source": [
        "history = model.fit(x_train, y_train, \n",
        "          epochs=200,\n",
        "          validation_data=(x_validat, y_validat),\n",
        "          callbacks=[tensorboard_callback,plot_losses]\n",
        "          #callbacks=[plot_losses]\n",
        "         )"
      ],
      "execution_count": 18,
      "outputs": [
        {
          "output_type": "display_data",
          "data": {
            "image/png": "[encoded data removed]",
            "text/plain": [
              "<Figure size 432x288 with 1 Axes>"
            ]
          },
          "metadata": {
            "tags": []
          }
        },
        {
          "output_type": "stream",
          "text": [
            "\b\b\b\b\b\b\b\b\b\b\b\b\b\b\b\b\b\b\b\b\b\b\b\b\b\b\b\b\b\b\b\b\b\b\b\b\b\b\b\b\b\b\b\b\b\b\b\b\b\b\b\b\b\b\b\b\b\b\b\b\b\b\b\b\b\b\b\b\b\b\b\b\b\b\b\b\b\b\b\b\b\b\b\b\b\b\b\b\b\b\r2100/2100 [==============================] - 5s 2ms/sample - loss: 0.0088 - metric_score: 0.9665 - val_loss: 0.0080 - val_metric_score: 0.9699\n"
          ],
          "name": "stdout"
        }
      ]
    },
    {
      "cell_type": "markdown",
      "metadata": {
        "id": "r91H7WB7w4mx",
        "colab_type": "text"
      },
      "source": [
        "##Plot learning curves\n",
        "Learning curve shows the training and validation loss over training epochs. It tells how much the NN can be improved by adding more training data or changing hyperparmeters and whether the model is limited by variance/ bias errors.\n",
        "\n",
        "In this example, after 200 epoches of training, the training loss is still higher than the validation loss, which indicates that the NN is still under fitting. One can further improve the performance by trianing with more number of epoches or increasing number of neurons per layer/number of layers of the NN."
      ]
    },
    {
      "cell_type": "code",
      "metadata": {
        "colab_type": "code",
        "outputId": "49c1c35d-8c26-4413-bc25-eca81e0cd758",
        "id": "3wpjedt3CS_W",
        "colab": {
          "base_uri": "https://localhost:8080/",
          "height": 573
        }
      },
      "source": [
        "# Plot training & validation loss values\n",
        "plt.plot(history.history['loss'])\n",
        "plt.plot(history.history['val_loss'])\n",
        "plt.title('Model loss')\n",
        "plt.ylabel('Loss')\n",
        "plt.xlabel('Epoch')\n",
        "plt.legend(['Train', 'Validation'])#, loc='upper right')\n",
        "plt.axis([-10,220,0.000,0.02])\n",
        "plt.show()\n",
        "\n",
        "# Plot training & validation metric values\n",
        "plt.plot(history.history['metric_score'])\n",
        "plt.plot(history.history['val_metric_score'])\n",
        "plt.title('Model accuracy')\n",
        "plt.ylabel('Accuracy')\n",
        "plt.xlabel('Epoch')\n",
        "plt.legend(['Train','Validation'])#, loc='bottom right')\n",
        "plt.axis([-10,220,0.90,1])\n",
        "plt.show()"
      ],
      "execution_count": 53,
      "outputs": [
        {
          "output_type": "display_data",
          "data": {
            "image/png": "[encoded data removed]",
            "text/plain": [
              "<Figure size 432x288 with 1 Axes>"
            ]
          },
          "metadata": {
            "tags": []
          }
        },
        {
          "output_type": "display_data",
          "data": {
            "image/png": "[encoded data removed]",
            "text/plain": [
              "<Figure size 432x288 with 1 Axes>"
            ]
          },
          "metadata": {
            "tags": []
          }
        }
      ]
    },
    {
      "cell_type": "markdown",
      "metadata": {
        "id": "B7A1NqyRzZWb",
        "colab_type": "text"
      },
      "source": [
        "##Call TensorBoard for visulizing the training\n",
        "TensorBoard is a powerful visualization tool box.\n",
        "One can use TensorBoard to visualize TensorFlow graph, plot quantitative metrics about the execution of the graph, and show additional data like images that pass through it. "
      ]
    },
    {
      "cell_type": "code",
      "metadata": {
        "id": "o5fISNMiDO_Y",
        "colab_type": "code",
        "colab": {}
      },
      "source": [
        "###########Call TensorBoard#############################\n",
        "%tensorboard --logdir logs"
      ],
      "execution_count": 0,
      "outputs": []
    },
    {
      "cell_type": "markdown",
      "metadata": {
        "id": "d6Hd5rA60u_o",
        "colab_type": "text"
      },
      "source": [
        "##Evaluate the model on test set\n",
        "\n",
        "Once training is complete, we want to evaluate the model to determine its accuracy.\n",
        "If trained using default settings, the model will give about 0.0075 loss and 0.97 metric score on the test set."
      ]
    },
    {
      "cell_type": "code",
      "metadata": {
        "id": "DwZ__0RfTh7H",
        "colab_type": "code",
        "outputId": "0be72528-2e9f-48f0-8055-dd5ddab9c5cc",
        "colab": {
          "base_uri": "https://localhost:8080/",
          "height": 34
        }
      },
      "source": [
        "test_loss, test_acc = model.evaluate(x_test, y_test)"
      ],
      "execution_count": 20,
      "outputs": [
        {
          "output_type": "stream",
          "text": [
            "416/416 [==============================] - 0s 497us/sample - loss: 0.0077 - metric_score: 0.9703\n"
          ],
          "name": "stdout"
        }
      ]
    },
    {
      "cell_type": "markdown",
      "metadata": {
        "id": "zoDq8YER1Ig5",
        "colab_type": "text"
      },
      "source": [
        "##Make predictions using the trained Neural Network"
      ]
    },
    {
      "cell_type": "code",
      "metadata": {
        "id": "giL5S_50U5ZT",
        "colab_type": "code",
        "outputId": "d913e63c-31eb-449e-a6bd-c2599f6b23ce",
        "colab": {
          "base_uri": "https://localhost:8080/",
          "height": 34
        }
      },
      "source": [
        "##############make predictions using the fitted model##############\n",
        "predictions = model.predict(x_test)\n",
        "predictions.shape"
      ],
      "execution_count": 21,
      "outputs": [
        {
          "output_type": "execute_result",
          "data": {
            "text/plain": [
              "(416, 22801)"
            ]
          },
          "metadata": {
            "tags": []
          },
          "execution_count": 21
        }
      ]
    },
    {
      "cell_type": "markdown",
      "metadata": {
        "id": "-C24779o1YYR",
        "colab_type": "text"
      },
      "source": [
        "##Comparison of the Simulated and NN predicted phase space \n",
        "\n",
        "The output layer of the neural networks is reshaped to a 2D image for visualizing.\n",
        "\n",
        "Try change \"index\" to check different phase space images.\n",
        "\n",
        "The correspoding metric score is calculated and displayed for reference"
      ]
    },
    {
      "cell_type": "code",
      "metadata": {
        "id": "guAl9aKmXLoG",
        "colab_type": "code",
        "outputId": "166c9730-bf97-4f3f-938f-24202e19a4a5",
        "colab": {
          "base_uri": "https://localhost:8080/",
          "height": 450
        }
      },
      "source": [
        "# import ndimage for removing the black spots using median filter\n",
        "from scipy import ndimage\n",
        "\n",
        "\n",
        "# define plot parameters\n",
        "\n",
        "x_calib = 0.032\n",
        "y_calib = 0.032\n",
        "\n",
        "x_start = -1*x_calib*75\n",
        "y_start = -1*y_calib*75\n",
        "\n",
        "x_end = 1*x_calib*75\n",
        "y_end = 1*y_calib*75\n",
        "\n",
        "# Example of a prediction\n",
        "# The image is transposed to meet the convention\n",
        "index = 135\n",
        "\n",
        "im_predict = predictions[index].reshape(151,151) #prediction using NN\n",
        "im_med = ndimage.median_filter(im_predict, 1)    #apply median filter\n",
        "im_test = y_test[index].reshape(151,151)         #y_test\n",
        "\n",
        "\n",
        "#predicted phase space\n",
        "plt.figure(figsize=(12,12))\n",
        "plt.subplot(1,2,1)\n",
        "#plt.imshow(predictions[index].reshape(151,151))  #prediction, y need to be reshaped to be displayed\n",
        "im1 = plt.imshow(im_med.T,extent=[x_start,x_end,y_start,y_end])  #prediction, y need to be reshaped to be displayed\n",
        "plt.xlabel('time of arrival (ps)')\n",
        "plt.ylabel('Energy Shift (x e-2)')\n",
        "plt.title('NN predicted')\n",
        "\n",
        "#simulated phase space\n",
        "plt.subplot(1,2,2)\n",
        "plt.imshow(im_test.T,extent=[x_start,x_end,y_start,y_end])  #training data, y need to be reshaped to be displayed\n",
        "plt.xlabel('time of arrival (ps)')\n",
        "plt.ylabel('Energy Shift (x e-2)')\n",
        "plt.title('simulation')\n",
        "\n",
        "\n",
        "\n",
        "x_normalized = np.squeeze(x_test[index,:])  #restore x using the feature std and average\n",
        "x_avg = np.array([   4.0291677, -100.,          -1.5999935])\n",
        "x_std = np.array([ 0.71486056, 12.909945,    0.25819755])\n",
        "\n",
        "x_restored = np.multiply(x_normalized,x_std)+x_avg\n",
        "\n",
        "print (\"x = \" + str(x_restored))\n",
        "print (\"\\n\")\n",
        "print (\"The score is: \"+str(output_score(y_test[index],predictions[index])))\n"
      ],
      "execution_count": 22,
      "outputs": [
        {
          "output_type": "stream",
          "text": [
            "x = [  3.90000639 -79.99999864  -1.29999905]\n",
            "\n",
            "\n",
            "The score is: 0.9790622368454933\n"
          ],
          "name": "stdout"
        },
        {
          "output_type": "display_data",
          "data": {
            "image/png": "[encoded data removed]",
            "text/plain": [
              "<Figure size 864x864 with 2 Axes>"
            ]
          },
          "metadata": {
            "tags": []
          }
        }
      ]
    },
    {
      "cell_type": "markdown",
      "metadata": {
        "id": "0pDRTzpJ_P-L",
        "colab_type": "text"
      },
      "source": [
        "##Comparison of the temporal profiles"
      ]
    },
    {
      "cell_type": "code",
      "metadata": {
        "id": "NjyEwq8UWcLJ",
        "colab_type": "code",
        "outputId": "bf8cf424-132b-4d0c-d6e8-ede5ccd000a3",
        "colab": {
          "base_uri": "https://localhost:8080/",
          "height": 300
        }
      },
      "source": [
        "#temporal profile\n",
        "temporal_predict = np.sum(im_predict, axis = 1)\n",
        "temporal_test = np.sum(im_test, axis = 1)\n",
        "\n",
        "energy_predict = np.sum(im_predict, axis = 0)\n",
        "energy_test = np.sum(im_test, axis = 0)\n",
        "\n",
        "x_calib = 0.032\n",
        "xlabel = np.arange(151)\n",
        "xlabel = xlabel*x_calib-75*x_calib\n",
        "\n",
        "temporal_predict.shape\n",
        "\n",
        "plt.figure(figsize=(6,4))\n",
        "plt.plot(xlabel, temporal_predict,'b',label = 'NN prediction')\n",
        "plt.plot(xlabel, temporal_test,'r', label = 'simulation')\n",
        "plt.legend()\n",
        "plt.axis([-2.2,2.2,0,100])\n",
        "\n",
        "plt.xlabel('time of arrival (ps)')\n",
        "plt.ylabel('intensity (arb. units)')"
      ],
      "execution_count": 23,
      "outputs": [
        {
          "output_type": "execute_result",
          "data": {
            "text/plain": [
              "Text(0, 0.5, 'intensity (arb. units)')"
            ]
          },
          "metadata": {
            "tags": []
          },
          "execution_count": 23
        },
        {
          "output_type": "display_data",
          "data": {
            "image/png": "[encoded data removed]",
            "text/plain": [
              "<Figure size 432x288 with 1 Axes>"
            ]
          },
          "metadata": {
            "tags": []
          }
        }
      ]
    },
    {
      "cell_type": "markdown",
      "metadata": {
        "id": "hBqOisAT_aE7",
        "colab_type": "text"
      },
      "source": [
        "##Plot distributions of energy spread VS temporal length"
      ]
    },
    {
      "cell_type": "code",
      "metadata": {
        "id": "dyaKpBLftgnO",
        "colab_type": "code",
        "outputId": "1d8fe7da-25ee-46fa-a241-2b3e5adba889",
        "colab": {
          "base_uri": "https://localhost:8080/",
          "height": 255
        }
      },
      "source": [
        "#this function calculates the rms deviation of intensity profiles in an imagestack\n",
        "\n",
        "def calculate_rms(imagestack):\n",
        "    m = imagestack.shape[0]\n",
        "    ysize = imagestack.shape[1]\n",
        "    xsize = imagestack.shape[2]\n",
        "    print (\"number of images is: \"+str(m))\n",
        "    \n",
        "    xprofiles = np.sum(imagestack, axis = 1)     # xprofile is in shape (416, 151)\n",
        "    yprofiles = np.sum(imagestack, axis = 2)     # yprofile is in shape (416, 151)\n",
        "    \n",
        "    int_sum = np.sum(xprofiles, axis = 1, keepdims = 1)   # intensity integration\n",
        "    #int_sum1 = np.sum(yprofiles, axis = 1, keepdims = 1)   # intensity integration for double check\n",
        "   \n",
        "    \n",
        "    #create label arrays\n",
        "    x_calib = 32e-5    \n",
        "    xlabel = np.arange(0, xsize*x_calib, x_calib)    \n",
        "    xlabel = xlabel.reshape(xsize,1)\n",
        "    xlabel = xlabel.T       # xlabel is in shape (1,151)\n",
        "    \n",
        "    print('calibration of x is: '+str(x_calib))\n",
        "    \n",
        "    y_calib = 0.032    \n",
        "    ylabel = np.arange(0, ysize*y_calib, y_calib)\n",
        "    ylabel = ylabel.reshape(ysize,1)\n",
        "    ylabel = ylabel.T      # ylabel is in shape (1,151)\n",
        "    \n",
        "    print('calibration of y is: '+str(y_calib))\n",
        "    \n",
        "    #calculate average of x and y\n",
        "    \n",
        "    x_temp = np.multiply(xprofiles, xlabel)\n",
        "    y_temp = np.multiply(yprofiles, ylabel)\n",
        "    \n",
        "    x_mean = np.sum(x_temp,axis = 1, keepdims = 1)/int_sum  # xmean is in shape (416, 1)\n",
        "    y_mean = np.sum(y_temp,axis = 1, keepdims = 1)/int_sum  # ymean is in shape (416, 1)\n",
        "    \n",
        "    print('x centor of mass is: '+str(x_mean[0]))   #check x_mean\n",
        "    print('y centor of mass is: '+str(y_mean[0]))   # chec y_mean\n",
        "    \n",
        "    #calculate rms using average\n",
        "    \n",
        "    xlabel = np.broadcast_to(xlabel, (m, xsize)) # xlabel is in shape (416,151)\n",
        "    ylabel = np.broadcast_to(ylabel, (m, ysize)) # ylabel is in shape (416,151)\n",
        "    \n",
        "    xlabel = xlabel - x_mean\n",
        "    ylabel = ylabel - y_mean\n",
        "    \n",
        "    x_temp = np.multiply(xlabel,xlabel)\n",
        "    y_temp = np.multiply(ylabel,ylabel)\n",
        "    \n",
        "    #print(x_temp)\n",
        "    \n",
        "    x_temp = np.multiply(x_temp, xprofiles)\n",
        "    y_temp = np.multiply(y_temp, yprofiles)\n",
        "    \n",
        "    xx = np.sum(x_temp,axis = 1, keepdims = 1)/int_sum\n",
        "    yy = np.sum(y_temp,axis = 1, keepdims = 1)/int_sum\n",
        "    \n",
        "    rms_x = np.sqrt(xx)\n",
        "    rms_y = np.sqrt(yy)\n",
        "    \n",
        "    print ('rms x of 1st image is: '+str(rms_x[0]))\n",
        "    print ('rms y of 1st image is: '+str(rms_y[0]))\n",
        "    \n",
        "    \n",
        "    return rms_x, rms_y\n",
        "  \n",
        "  \n",
        "## calculate the rms of energy spread and temporal length\n",
        "\n",
        "# use the training data set\n",
        "predictions_train = model.predict(x_train)\n",
        "\n",
        "\n",
        "imagestack = predictions_train.reshape(predictions_train.shape[0],151,151)  #reshape the prediction data\n",
        "\n",
        "rms_x_prediction, rms_y_prediction = calculate_rms(imagestack)\n",
        "\n",
        "\n",
        "imagestack = y_train.reshape(y_train.shape[0],151,151)  \n",
        "\n",
        "rms_x_simulation, rms_y_simulation = calculate_rms(imagestack)\n",
        "\n",
        "\n",
        "## check the temporal focusing conditions\n",
        "\n",
        "#print(rms_y_prediction[np.where(rms_y_prediction<0.2)])  \n",
        "#print(np.where(rms_y_prediction<0.2))\n"
      ],
      "execution_count": 24,
      "outputs": [
        {
          "output_type": "stream",
          "text": [
            "number of images is: 2100\n",
            "calibration of x is: 0.00032\n",
            "calibration of y is: 0.032\n",
            "x centor of mass is: [0.02393363]\n",
            "y centor of mass is: [2.41427895]\n",
            "rms x of 1st image is: [0.00975824]\n",
            "rms y of 1st image is: [1.03331832]\n",
            "number of images is: 2100\n",
            "calibration of x is: 0.00032\n",
            "calibration of y is: 0.032\n",
            "x centor of mass is: [0.02399968]\n",
            "y centor of mass is: [2.39979536]\n",
            "rms x of 1st image is: [0.01041832]\n",
            "rms y of 1st image is: [1.11060215]\n"
          ],
          "name": "stdout"
        }
      ]
    },
    {
      "cell_type": "code",
      "metadata": {
        "id": "wkYdQhdSHL8s",
        "colab_type": "code",
        "outputId": "f91f8504-6c9a-408a-810a-208b2f38d889",
        "colab": {
          "base_uri": "https://localhost:8080/",
          "height": 409
        }
      },
      "source": [
        "## plot energy spread VS temporal length\n",
        "\n",
        "plt.figure(figsize=(6,6))\n",
        "plt.plot(rms_y_simulation, rms_x_simulation,'ro', label = 'Simulation',markersize=1)\n",
        "plt.plot(rms_y_prediction, rms_x_prediction,'bo',label = 'NN prediction',markersize=1)\n",
        "\n",
        "plt.legend()\n",
        "plt.axis([0,1.5,0,0.016])\n",
        "\n",
        "plt.xlabel('RMS pulse length (ps)')\n",
        "plt.ylabel('energy spread ')"
      ],
      "execution_count": 25,
      "outputs": [
        {
          "output_type": "execute_result",
          "data": {
            "text/plain": [
              "Text(0, 0.5, 'energy spread ')"
            ]
          },
          "metadata": {
            "tags": []
          },
          "execution_count": 25
        },
        {
          "output_type": "display_data",
          "data": {
            "image/png": "[encoded data removed]",
            "text/plain": [
              "<Figure size 432x432 with 1 Axes>"
            ]
          },
          "metadata": {
            "tags": []
          }
        }
      ]
    },
    {
      "cell_type": "markdown",
      "metadata": {
        "id": "6q2iezvoAByW",
        "colab_type": "text"
      },
      "source": [
        "##Phase space prediction using a specified parameter set\n",
        "Phase space prediction using a specified parameter set can be made using the trained Neural Network. \n",
        "\n",
        "In this example, Solenoid current, buncher phase and buncher amplitude can be adjusted for running the surrogate model. The corresponding longitudinal phase space is generated by the NN, one can play with the three parameters to see how phase space changes. Note that, once the values of parameters exceeds the boundary of parameter space, NNs will give none-physical predictions.\n"
      ]
    },
    {
      "cell_type": "code",
      "metadata": {
        "id": "BYle65V4GyAB",
        "colab_type": "code",
        "outputId": "e30bb9eb-6b06-4ff7-eb3d-adc060ae2cb2",
        "colab": {
          "base_uri": "https://localhost:8080/",
          "height": 395
        }
      },
      "source": [
        "# prediction using a specified parameter set\n",
        "\n",
        "sol = 3.0\n",
        "phi = -105\n",
        "Eb = -1.6\n",
        "\n",
        "\n",
        "sol_norm = (sol-avgx[0])/stdx[0]\n",
        "phi_norm = (phi-avgx[1])/stdx[1]\n",
        "Eb_norm = (Eb-avgx[2])/stdx[2]\n",
        "\n",
        "x_specify = np.array([[ sol_norm , phi_norm , Eb_norm]])\n",
        "prediction_specify = model.predict(x_specify)\n",
        "plt.figure(figsize=(6,6))\n",
        "#plt.subplot(1,2,1)\n",
        "\n",
        "img_predict = (prediction_specify[0].reshape(151,151)).T\n",
        "img_med = ndimage.median_filter(img_predict,1)\n",
        "plt.imshow(img_med)  #prediction, y need to be reshaped to be displayed\n",
        "\n",
        "print (\"sol = \" + str(sol) +\", phi = \" + str(phi) + \", Eb = \" + str(Eb))"
      ],
      "execution_count": 51,
      "outputs": [
        {
          "output_type": "stream",
          "text": [
            "sol = 3.0, phi = -105, Eb = -1.6\n"
          ],
          "name": "stdout"
        },
        {
          "output_type": "display_data",
          "data": {
            "image/png": "[encoded data removed]",
            "text/plain": [
              "<Figure size 432x432 with 1 Axes>"
            ]
          },
          "metadata": {
            "tags": []
          }
        }
      ]
    },
    {
      "cell_type": "code",
      "metadata": {
        "id": "0X8N_Umzq2fc",
        "colab_type": "code",
        "colab": {}
      },
      "source": [
        ""
      ],
      "execution_count": 0,
      "outputs": []
    }
  ]
}